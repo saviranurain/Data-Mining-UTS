{
 "cells": [
  {
   "cell_type": "code",
   "execution_count": 4,
   "id": "0f42df93-d61b-4e8a-8de3-5322a695927d",
   "metadata": {},
   "outputs": [],
   "source": [
    "company_name_list = [{'name': 'Company 1'},\n",
    "          {'name': 'Company 2'},\n",
    "          {'name': 'Company 3'}]\n",
    "\n",
    "employee_name_list = [{'name': 'John Doe'},\n",
    "          {'name': 'Tom Smith'},\n",
    "          {'name': 'Andrew Sebastian'}]\n",
    "\n",
    "company_detail_list = {\n",
    "      'Company 1': {\n",
    "          'name': 'Company 1',\n",
    "          'domain': 'Retail',\n",
    "          'clients': [\n",
    "              {\n",
    "                  'name': 'acme.inc',\n",
    "                  'country': 'united states'\n",
    "              },\n",
    "              {\n",
    "                  'name': 'Wayne.co',\n",
    "                  'country': 'united states'\n",
    "              }\n",
    "          ]\n",
    "      },\n",
    "      'Company 2': {\n",
    "          'name': 'Company 2',\n",
    "          'domain': 'Construction',\n",
    "          'clients': [\n",
    "              {\n",
    "                  'name': 'Tesla',\n",
    "                  'country': 'united states'\n",
    "              },\n",
    "              {\n",
    "                  'name': 'Japan Airlines',\n",
    "                  'country': 'japan'\n",
    "              },\n",
    "              {\n",
    "                  'name': 'Indofood',\n",
    "                  'country': 'indonesia'\n",
    "              }\n",
    "          ]\n",
    "      },\n",
    "      'Company 3': {\n",
    "          'name': 'Company 3',\n",
    "          'domain': 'Healthcare',\n",
    "          'clients': [\n",
    "              {\n",
    "                  'name': 'Petronas',\n",
    "                  'country': 'malaysia'\n",
    "              },\n",
    "              {\n",
    "                  'name': 'VW Group',\n",
    "                  'country': 'germany'\n",
    "              },\n",
    "              {\n",
    "                  'name': 'IBM',\n",
    "                  'country': 'united states'\n",
    "              },\n",
    "              {\n",
    "                  'name': 'Mitsubishi',\n",
    "                  'country': 'japan'\n",
    "              }\n",
    "          ]\n",
    "      }\n",
    "  }\n",
    "\n",
    "employee_detail_list = {\n",
    "      'John Doe': {\n",
    "          'name': 'EMP-0001',\n",
    "          'first_name': 'John',\n",
    "          'last_name': 'Doe',\n",
    "          'full_name': 'John Doe',\n",
    "          'company': 'Company 1'\n",
    "      },\n",
    "      'Tom Smith': {\n",
    "          'name': 'EMP-0002',\n",
    "          'first_name': 'Tom',\n",
    "          'last_name': 'Smith',\n",
    "          'full_name': 'Tom Smith',\n",
    "          'company': 'Company 2'\n",
    "      },\n",
    "      'Andrew Sebastian': {\n",
    "          'name': 'EMP-0003',\n",
    "          'first_name': 'Andrew',\n",
    "          'last_name': 'Sebastian',\n",
    "          'full_name': 'Andrew Sebastian',\n",
    "          'company': 'Company 2'\n",
    "      },\n",
    "  }\n",
    "\n",
    "print(\"NAMA : SAVINA NURAINI\")\n",
    "print(\"NIM : 221011403180\")\n"
   ]
  },
  {
   "cell_type": "code",
   "execution_count": 10,
   "id": "d7ecb77e-7ad8-4713-8d91-c71b42053eb2",
   "metadata": {},
   "outputs": [
    {
     "name": "stdout",
     "output_type": "stream",
     "text": [
      "Daftar Perusahaan yang Telah Diurutkan:\n",
      "Company 1\n",
      "Company 2\n",
      "Company 3\n"
     ]
    }
   ],
   "source": [
    "def sort_company():\n",
    "    company_names = [company['name'] for company in company_name_list]\n",
    "\n",
    "    sorted_company_names = sorted(company_names)\n",
    "\n",
    "    print(\"Daftar Perusahaan yang Telah Diurutkan:\")\n",
    "    for company_name in sorted_company_names:\n",
    "        print(company_name)\n",
    "\n",
    "sort_company();"
   ]
  },
  {
   "cell_type": "code",
   "execution_count": 6,
   "id": "c716344a-a192-42dd-8f5a-40ff730032cc",
   "metadata": {},
   "outputs": [
    {
     "name": "stdout",
     "output_type": "stream",
     "text": [
      "Masukan nama company :  Company 2\n"
     ]
    },
    {
     "name": "stdout",
     "output_type": "stream",
     "text": [
      "Domain dari Company 2 adalah: Construction\n"
     ]
    }
   ],
   "source": [
    "def get_company_domain(company_name):\n",
    "    company_detail = company_detail_list.get(company_name)\n",
    "    if company_detail:\n",
    "        return company_detail['domain']\n",
    "    else:\n",
    "        return \"Perusahaan tidak ditemukan.\"\n",
    "\n",
    "company_name = input(\"Masukan nama company : \")\n",
    "company_domain = get_company_domain(company_name)\n",
    "print(\"Domain dari\", company_name, \"adalah:\", company_domain)"
   ]
  },
  {
   "cell_type": "code",
   "execution_count": 14,
   "id": "730530e6-6514-4c0f-8d50-a1ca07ca61ed",
   "metadata": {},
   "outputs": [
    {
     "data": {
      "text/plain": [
       "[{'full_name': 'John Doe', 'company': 'Company 1', 'domain': 'Retail'},\n",
       " {'full_name': 'Tom Smith', 'company': 'Company 2', 'domain': 'Construction'},\n",
       " {'full_name': 'Andrew Sebastian',\n",
       "  'company': 'Company 2',\n",
       "  'domain': 'Construction'}]"
      ]
     },
     "execution_count": 14,
     "metadata": {},
     "output_type": "execute_result"
    }
   ],
   "source": [
    "def get_employees():\n",
    "    result = []\n",
    "\n",
    "    for employee_name, employee_detail in employee_detail_list.items():\n",
    "        full_name = employee_detail['full_name']\n",
    "        company_name = employee_detail['company']\n",
    "\n",
    "        company_domain = company_detail_list[company_name]['domain']\n",
    "\n",
    "        result.append({\n",
    "            \"full_name\": full_name,\n",
    "            \"company\": company_name,\n",
    "            \"domain\": company_domain\n",
    "        })\n",
    "\n",
    "    return result\n",
    "\n",
    "get_employees()"
   ]
  },
  {
   "cell_type": "code",
   "execution_count": 12,
   "id": "e026b924-4efc-47ed-957d-5118275deb1b",
   "metadata": {},
   "outputs": [
    {
     "data": {
      "text/plain": [
       "[{'company': 'Company 1', 'employees': ['John Doe']},\n",
       " {'company': 'Company 2', 'employees': ['Tom Smith', 'Andrew Sebastian']},\n",
       " {'company': 'Company 3', 'employees': []}]"
      ]
     },
     "execution_count": 12,
     "metadata": {},
     "output_type": "execute_result"
    }
   ],
   "source": [
    "def get_employees_by_company():\n",
    "    result = []\n",
    "\n",
    "    for company_info in company_name_list:\n",
    "        company_name = company_info['name']\n",
    "        employees = []\n",
    "\n",
    "        for employee_name, employee_detail in employee_detail_list.items():\n",
    "            if employee_detail['company'] == company_name:\n",
    "                employees.append(employee_name)\n",
    "\n",
    "        result.append({\n",
    "            \"company\": company_name,\n",
    "            \"employees\": employees\n",
    "        })\n",
    "\n",
    "    return result\n",
    "\n",
    "get_employees_by_company()"
   ]
  },
  {
   "cell_type": "code",
   "execution_count": null,
   "id": "5b3c1b6b-dd42-485b-aed0-a9fd587211b7",
   "metadata": {},
   "outputs": [],
   "source": []
  }
 ],
 "metadata": {
  "kernelspec": {
   "display_name": "anaconda-panel-2023.05-py310",
   "language": "python",
   "name": "conda-env-anaconda-panel-2023.05-py310-py"
  },
  "language_info": {
   "codemirror_mode": {
    "name": "ipython",
    "version": 3
   },
   "file_extension": ".py",
   "mimetype": "text/x-python",
   "name": "python",
   "nbconvert_exporter": "python",
   "pygments_lexer": "ipython3",
   "version": "3.11.5"
  }
 },
 "nbformat": 4,
 "nbformat_minor": 5
}
