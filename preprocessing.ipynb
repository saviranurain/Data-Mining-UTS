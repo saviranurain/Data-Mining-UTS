{
 "cells": [
  {
   "cell_type": "code",
   "execution_count": 63,
   "id": "c55a6ace-85ca-4a63-84fd-5a0f6f88759c",
   "metadata": {
    "scrolled": true
   },
   "outputs": [
    {
     "name": "stdout",
     "output_type": "stream",
     "text": [
      "    R&D Spend  Administration  Marketing Spend       State     Profit\n",
      "15  114523.61       122616.84        261776.23    New York  129917.04\n",
      "43   15505.73       127382.30         35534.17    New York   69758.98\n",
      "20   76253.86       113867.30        298664.47  California  118474.03\n",
      "22   73994.56       122782.75        303319.26     Florida  110352.25\n",
      "16   78013.11       121597.55        264346.06  California  126992.93\n",
      "34   46426.07       157693.92        210797.67  California   96712.80\n",
      "2   153441.51       101145.55        407934.54     Florida  191050.39\n",
      "Data yang kosong (NaN):\n",
      "R&D Spend          5\n",
      "Administration     3\n",
      "Marketing Spend    5\n",
      "State              0\n",
      "Profit             2\n",
      "dtype: int64\n",
      "Data setelah pre-processing:\n",
      "   R&D Spend  Administration  Marketing Spend    Profit  California  Florida  \\\n",
      "0   2.076351        0.554318         2.299248  2.024298         0.0      0.0   \n",
      "1   2.011840        1.123258         2.040926  2.012472         1.0      0.0   \n",
      "2   1.797168       -0.850460         1.707769  1.993801         0.0      1.0   \n",
      "3   1.584537       -0.161817         1.478634  1.788670         0.0      0.0   \n",
      "4   1.531431       -1.233706         1.320863  1.367903         0.0      1.0   \n",
      "\n",
      "   New York       Tax  \n",
      "0       1.0  2.460946  \n",
      "1       0.0  2.361311  \n",
      "2       0.0  1.737043  \n",
      "3       1.0  1.626770  \n",
      "4       0.0  1.188570  \n"
     ]
    }
   ],
   "source": [
    "import pandas as pd\n",
    "from sklearn.preprocessing import LabelEncoder, OneHotEncoder, StandardScaler\n",
    "\n",
    "print(\"NAMA : SAVINA NURAINI\")\n",
    "print(\"NIM : 221011403180\")\n",
    "\n",
    "data_startup = pd.read_csv('50_Startups.csv')\n",
    "\n",
    "startup_table = data_startup[['R&D Spend', 'Administration', 'Marketing Spend', 'State', 'Profit']]\n",
    "\n",
    "print(startup_table.sample(7))\n",
    "\n",
    "data_hilang = startup_table.isnull().sum()\n",
    "print(\"Data yang kosong (NaN):\")\n",
    "print(data_hilang)\n",
    "\n",
    "startup_table[['R&D Spend', 'Administration', 'Marketing Spend', 'Profit']] = startup_table[['R&D Spend', 'Administration', 'Marketing Spend', 'Profit']].fillna(startup_table[['R&D Spend', 'Administration', 'Marketing Spend', 'Profit']].mean())\n",
    "\n",
    "label_encoder = LabelEncoder()\n",
    "startup_table['State'] = label_encoder.fit_transform(startup_table['State'])\n",
    "\n",
    "onehot_encoder = OneHotEncoder()\n",
    "encode = onehot_encoder.fit_transform(startup_table[['State']])\n",
    "endcode_df = pd.DataFrame(encode.toarray(), columns=label_encoder.classes_)\n",
    "startup_table = pd.concat([startup_table, endcode_df], axis=1)\n",
    "startup_table.drop('State', axis=1, inplace=True)\n",
    "\n",
    "startup_table['Tax'] = (startup_table['Profit'] + startup_table['Marketing Spend'] + startup_table['Administration']) * 0.05\n",
    "\n",
    "scaler = StandardScaler()\n",
    "kolom = ['R&D Spend', 'Administration', 'Marketing Spend', 'Profit', 'Tax']\n",
    "startup_table[kolom] = scaler.fit_transform(startup_table[kolom])\n",
    "\n",
    "print(\"Data setelah pre-processing:\")\n",
    "print(startup_table.head())\n"
   ]
  },
  {
   "cell_type": "code",
   "execution_count": null,
   "id": "c41bb8b7-9e41-4234-8394-fb7e61e61a07",
   "metadata": {},
   "outputs": [],
   "source": []
  },
  {
   "cell_type": "code",
   "execution_count": null,
   "id": "b2ac03e8-1b52-4a4a-8489-0e56f04c2439",
   "metadata": {},
   "outputs": [],
   "source": []
  }
 ],
 "metadata": {
  "kernelspec": {
   "display_name": "anaconda-panel-2023.05-py310",
   "language": "python",
   "name": "conda-env-anaconda-panel-2023.05-py310-py"
  },
  "language_info": {
   "codemirror_mode": {
    "name": "ipython",
    "version": 3
   },
   "file_extension": ".py",
   "mimetype": "text/x-python",
   "name": "python",
   "nbconvert_exporter": "python",
   "pygments_lexer": "ipython3",
   "version": "3.11.5"
  }
 },
 "nbformat": 4,
 "nbformat_minor": 5
}
